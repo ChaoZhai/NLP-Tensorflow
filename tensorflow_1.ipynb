{
 "cells": [
  {
   "cell_type": "markdown",
   "metadata": {
    "collapsed": true
   },
   "source": [
    "启动图 创建图"
   ]
  },
  {
   "cell_type": "code",
   "execution_count": 1,
   "metadata": {
    "collapsed": true
   },
   "outputs": [],
   "source": [
    "import tensorflow as tf"
   ]
  },
  {
   "cell_type": "code",
   "execution_count": 2,
   "metadata": {
    "collapsed": false
   },
   "outputs": [
    {
     "name": "stdout",
     "output_type": "stream",
     "text": [
      "Tensor(\"MatMul:0\", shape=(1, 1), dtype=int32)\n"
     ]
    }
   ],
   "source": [
    "# 创建一个常量op\n",
    "m1=tf.constant([[3,3]])\n",
    "# 创建一个常量op\n",
    "m2=tf.constant([[2],[3]])\n",
    "# 创建一个矩阵相乘的op，把m1和m2传入\n",
    "product=tf.matmul(m1,m2)\n",
    "print(product)\n"
   ]
  },
  {
   "cell_type": "code",
   "execution_count": 3,
   "metadata": {
    "collapsed": false
   },
   "outputs": [
    {
     "name": "stdout",
     "output_type": "stream",
     "text": [
      "[[15]]\n"
     ]
    }
   ],
   "source": [
    "# 定义一个会话，启动默认的图\n",
    "sess=tf.Session()\n",
    "#调用sess的run方法来执行矩阵乘法的op\n",
    "#run(product)触发了图中的3个op\n",
    "result=sess.run(product)\n",
    "print(result)\n",
    "sess.close()"
   ]
  },
  {
   "cell_type": "code",
   "execution_count": 4,
   "metadata": {
    "collapsed": false
   },
   "outputs": [
    {
     "name": "stdout",
     "output_type": "stream",
     "text": [
      "[[15]]\n"
     ]
    }
   ],
   "source": [
    "#另外一种定义会话的方式\n",
    "with tf.Session() as sess:\n",
    "    #调用sess的run方法来执行矩阵乘法的op\n",
    "    #run(product)触发了图中的3个op\n",
    "    result=sess.run(product)\n",
    "    print(result)"
   ]
  },
  {
   "cell_type": "code",
   "execution_count": 4,
   "metadata": {
    "collapsed": false
   },
   "outputs": [
    {
     "name": "stdout",
     "output_type": "stream",
     "text": [
      "[-2 -1]\n",
      "[-1  1]\n"
     ]
    }
   ],
   "source": [
    "x=tf.Variable([1,2])\n",
    "a=tf.constant([3,3])\n",
    "#增加一个减法的op\n",
    "sub=tf.subtract(x,a)\n",
    "#增加一个加法的op\n",
    "add=tf.add(x,sub)\n",
    "\n",
    "#初始化全局变量\n",
    "init=tf.global_variables_initializer()\n",
    "with tf.Session() as sess:\n",
    "    sess.run(init)\n",
    "    print(sess.run(sub))\n",
    "    print(sess.run(add))\n",
    "\n"
   ]
  },
  {
   "cell_type": "code",
   "execution_count": 5,
   "metadata": {
    "collapsed": false
   },
   "outputs": [
    {
     "name": "stdout",
     "output_type": "stream",
     "text": [
      "0\n",
      "1\n",
      "2\n",
      "3\n",
      "4\n",
      "5\n"
     ]
    }
   ],
   "source": [
    "#创建一个变量初始化为0\n",
    "state=tf.Variable(0,name='counter')\n",
    "#创建一个op是使state 加 1\n",
    "new_value=tf.add(state,1)\n",
    "#赋值op\n",
    "update=tf.assign(state,new_value)\n",
    "#初始化全局变量\n",
    "init=tf.global_variables_initializer()\n",
    "with tf.Session() as sess:\n",
    "    sess.run(init)\n",
    "    print(sess.run(state))\n",
    "    for _ in range(5):\n",
    "        sess.run(update)\n",
    "        print(sess.run(state))\n",
    "\n"
   ]
  },
  {
   "cell_type": "code",
   "execution_count": 8,
   "metadata": {
    "collapsed": false
   },
   "outputs": [
    {
     "name": "stdout",
     "output_type": "stream",
     "text": [
      "[7.0, 21.0]\n"
     ]
    }
   ],
   "source": [
    "#Fetch\n",
    "#Fetch在一个会话中运行多个op\n",
    "input1=tf.constant(3.0)\n",
    "input2=tf.constant(2.0)\n",
    "input3=tf.constant(5.0)\n",
    "\n",
    "add=tf.add(input2,input3)\n",
    "mul=tf.multiply(input1,add)\n",
    "\n",
    "with tf.Session() as sess:\n",
    "    result=sess.run([add,mul])\n",
    "    print(result)\n",
    "\n",
    "\n"
   ]
  },
  {
   "cell_type": "code",
   "execution_count": 11,
   "metadata": {
    "collapsed": false
   },
   "outputs": [
    {
     "name": "stdout",
     "output_type": "stream",
     "text": [
      "[ 14.]\n"
     ]
    }
   ],
   "source": [
    "# Feed\n",
    "#创建占位符\n",
    "input1=tf.placeholder(tf.float32)\n",
    "input2=tf.placeholder(tf.float32)\n",
    "output=tf.multiply(input1,input2)\n",
    "\n",
    "with tf.Session() as sess:\n",
    "    #Feed的数据以字典的形式传入\n",
    "    print(sess.run(output,feed_dict={input1:[7.],input2:[2.]}))\n",
    "\n"
   ]
  },
  {
   "cell_type": "code",
   "execution_count": null,
   "metadata": {
    "collapsed": true
   },
   "outputs": [],
   "source": []
  }
 ],
 "metadata": {
  "anaconda-cloud": {},
  "kernelspec": {
   "display_name": "Python [default]",
   "language": "python",
   "name": "python3"
  },
  "language_info": {
   "codemirror_mode": {
    "name": "ipython",
    "version": 3
   },
   "file_extension": ".py",
   "mimetype": "text/x-python",
   "name": "python",
   "nbconvert_exporter": "python",
   "pygments_lexer": "ipython3",
   "version": "3.5.2"
  }
 },
 "nbformat": 4,
 "nbformat_minor": 1
}
